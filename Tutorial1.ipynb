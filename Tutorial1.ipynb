{
 "cells": [
  {
   "cell_type": "markdown",
   "metadata": {
    "id": "-KxIplL-a3R9"
   },
   "source": [
    "\n",
    "**Tutorial # 1 - Introduction**\n",
    "\n",
    "Goals:\n",
    "\n",
    "1.   Train, validate, and test a segmentation network using keras\n",
    "2.   Implement a multi-modality version and test its performance\n",
    "3.   Test effect of hyperparameters (batch size, patch size, epochs, n kernels)\n",
    "4.   Test effect of intensity standardisation\n",
    "5.   Test effect of skip connections (segnet -> unet)\n",
    "6.   Get used to keras"
   ]
  },
  {
   "cell_type": "markdown",
   "metadata": {
    "id": "HMIG5gOwa-Nb"
   },
   "source": [
    "**Import libraries**"
   ]
  },
  {
   "cell_type": "code",
   "execution_count": 20,
   "metadata": {
    "id": "spA2vbr3a0j7"
   },
   "outputs": [],
   "source": [
    "import numpy as np\n",
    "import nibabel as nib\n",
    "import matplotlib.pyplot as plt\n",
    "\n",
    "import tensorflow as tf\n",
    "\n",
    "from tensorflow import keras\n",
    "from tensorflow.keras import layers"
   ]
  },
  {
   "cell_type": "markdown",
   "metadata": {
    "id": "IEFUu8FjYvaz"
   },
   "source": [
    "**Define parameters**"
   ]
  },
  {
   "cell_type": "code",
   "execution_count": 107,
   "metadata": {
    "id": "eerKWEtxUg_x"
   },
   "outputs": [],
   "source": [
    "# dataset parameters\n",
    "FNAME_PATTERN = 'C:\\\\Users\\\\LENOVO\\\\Documents\\\\Third_Semester\\\\CAD\\\\Seminar\\\\iSeg2019-Training/subject-{}-{}.hdr'\n",
    "N_VOLUMES = 10\n",
    "IMAGE_SIZE = (144, 192, 256)\n",
    "\n",
    "# network parameters\n",
    "N_CLASSES = 4             #4 tissues, GM,WM, CSF, background\n",
    "N_INPUT_CHANNELS = 2\n",
    "PATCH_SIZE = (32, 32)    # depends on the type of segmentation problem, if it's smaller area use smaller patch size\n",
    "PATCH_STRIDE = (64, 64)  # bigger patches work better\n",
    "\n",
    "# training, validation, test parameters\n",
    "TRAINING_VOLUMES = [0, 1, 2, 3, 4, 5, 6]\n",
    "VALIDATION_VOLUMES = [7, 8]\n",
    "TEST_VOLUMES = [9]\n",
    "\n",
    "# data preparation parameters\n",
    "CONTENT_THRESHOLD = 0.3 \n",
    "\n",
    "# training parameters\n",
    "N_EPOCHS = 10\n",
    "BATCH_SIZE = 32\n",
    "PATIENCE = 10\n",
    "MODEL_FNAME_PATTERN = 'model.h5'\n",
    "OPTIMISER = 'Adam'\n",
    "LOSS = 'categorical_crossentropy'"
   ]
  },
  {
   "cell_type": "markdown",
   "metadata": {
    "id": "kakQO5X9E0oR"
   },
   "source": [
    "**Define SegNet architecture**"
   ]
  },
  {
   "cell_type": "code",
   "execution_count": 94,
   "metadata": {
    "id": "flPaOqv0bZ3-"
   },
   "outputs": [],
   "source": [
    "def get_segnet(img_size=PATCH_SIZE, n_classes=N_CLASSES, n_input_channels=N_INPUT_CHANNELS, scale=1):\n",
    "    inputs = keras.Input(shape=img_size + (n_input_channels, ))\n",
    "\n",
    "    # Encoding path\n",
    "    conv1 = layers.Conv2D(32*scale, (3, 3), padding=\"same\", activation='relu')(inputs)\n",
    "    max1 = layers.MaxPooling2D((2, 2))(conv1)\n",
    "\n",
    "    conv2 = layers.Conv2D(64*scale, (3, 3), padding=\"same\", activation='relu')(max1)\n",
    "    max2 = layers.MaxPooling2D((2, 2))(conv2)\n",
    "\n",
    "    conv3 = layers.Conv2D(128*scale, (3, 3), padding=\"same\", activation='relu')(max2)\n",
    "    max3 = layers.MaxPooling2D((2, 2))(conv3)\n",
    "\n",
    "    lat = layers.Conv2D(256*scale, (3, 3), padding=\"same\", activation='relu')(max3)\n",
    "\n",
    "\n",
    "    # Decoding path\n",
    "    up1 = layers.UpSampling2D((2, 2))(lat)\n",
    "    conv4 = layers.Conv2D(128*scale, (3, 3), padding=\"same\", activation='relu')(up1)\n",
    "    \n",
    "    #Adding skip connection\n",
    "    # We can concatinate conv3 and up1, conv2 and up2\n",
    "    #concatted = tf.keras.layers.Concatenate()([conv3, conv4])\n",
    "    \n",
    "    concatted_1 = tf.keras.layers.Concatenate()([conv3, up1])\n",
    "    \n",
    "    up2 = layers.UpSampling2D((2, 2))(concatted_1)\n",
    "    conv5 = layers.Conv2D(64*scale, (3, 3), padding=\"same\", activation='relu')(up2)\n",
    "    \n",
    "    #Concatination \n",
    "    concatted_2 = tf.keras.layers.Concatenate()([conv2, up2])\n",
    "    \n",
    "    up3 = layers.UpSampling2D((2, 2))(concatted_2)\n",
    "    conv6 = layers.Conv2D(32*scale, (3, 3), padding=\"same\", activation='relu')(up3)\n",
    "\n",
    "    outputs = layers.Conv2D(n_classes, (1, 1), activation=\"softmax\")(conv6)\n",
    "\n",
    "    model = keras.Model(inputs, outputs)\n",
    "\n",
    "    return model"
   ]
  },
  {
   "cell_type": "markdown",
   "metadata": {
    "id": "4Z1E1IglE-0w"
   },
   "source": [
    "**Load data**"
   ]
  },
  {
   "cell_type": "code",
   "execution_count": 108,
   "metadata": {
    "id": "z-iEv0DKfkhD"
   },
   "outputs": [],
   "source": [
    "def load_data(n_volumes=N_VOLUMES, image_size=IMAGE_SIZE, fname_pattern=FNAME_PATTERN) :\n",
    "  T1_volumes = np.zeros((n_volumes, *image_size, 1))\n",
    "  T2_volumes = np.zeros((n_volumes, *image_size, 1))\n",
    "  labels = np.zeros((n_volumes, *image_size, 1))\n",
    "  for i in range(n_volumes) :\n",
    "    img_data = nib.load(fname_pattern.format(i+1, 'T1'))\n",
    "    T1_volumes[i] = img_data.get_fdata()\n",
    "\n",
    "    img_data = nib.load(fname_pattern.format(i+1, 'T2'))\n",
    "    T2_volumes[i] = img_data.get_fdata()\n",
    "\n",
    "    seg_data = nib.load(fname_pattern.format(i+1, 'label'))\n",
    "    labels[i] = seg_data.get_fdata()\n",
    "\n",
    "  return (T1_volumes, T2_volumes, labels)"
   ]
  },
  {
   "cell_type": "code",
   "execution_count": 109,
   "metadata": {
    "id": "SCohHTitd5gU"
   },
   "outputs": [],
   "source": [
    "(T1_volumes, T2_volumes, labels) = load_data()"
   ]
  },
  {
   "cell_type": "markdown",
   "metadata": {
    "id": "7SAR9yuGNzLX"
   },
   "source": [
    "**Split into training, validation and testing**"
   ]
  },
  {
   "cell_type": "code",
   "execution_count": 110,
   "metadata": {
    "id": "vi1ZvMHYNysO"
   },
   "outputs": [],
   "source": [
    "training_volumes_T1 = T1_volumes[TRAINING_VOLUMES]\n",
    "training_volumes_T2 = T2_volumes[TRAINING_VOLUMES]\n",
    "training_labels = labels[TRAINING_VOLUMES]\n",
    "\n",
    "validation_volumes_T1 = T1_volumes[VALIDATION_VOLUMES]\n",
    "validation_volumes_T2 = T2_volumes[VALIDATION_VOLUMES]\n",
    "validation_labels = labels[VALIDATION_VOLUMES]\n",
    "\n",
    "testing_volumes_T1 = T1_volumes[TEST_VOLUMES]\n",
    "testing_volumes_T2 = T2_volumes[TEST_VOLUMES]\n",
    "testing_labels = labels[TEST_VOLUMES]"
   ]
  },
  {
   "cell_type": "markdown",
   "metadata": {
    "id": "LpKWGJ-Fh1B_"
   },
   "source": [
    "**Pre-process data**"
   ]
  },
  {
   "cell_type": "code",
   "execution_count": 85,
   "metadata": {
    "id": "8GPSNW8HhzNb"
   },
   "outputs": [],
   "source": [
    "# def z_score_standardisation(x, avg, std):\n",
    "#   return (x-avg)/std"
   ]
  },
  {
   "cell_type": "markdown",
   "metadata": {
    "id": "BFDtzyW6FH7x"
   },
   "source": [
    "**Extract *useful* patches**\n",
    "\n",
    "This step is fundamental, we want to provide the network with useful information"
   ]
  },
  {
   "cell_type": "code",
   "execution_count": 111,
   "metadata": {
    "id": "v4qyfiRaf7n2"
   },
   "outputs": [],
   "source": [
    "def extract_patches(x, patch_size, patch_stride) :\n",
    "  return tf.image.extract_patches(\n",
    "    x,\n",
    "    sizes=[1, *patch_size, 1],\n",
    "    strides=[1, *patch_stride, 1],\n",
    "    rates=[1, 1, 1, 1],\n",
    "    padding='SAME', name=None)"
   ]
  },
  {
   "cell_type": "code",
   "execution_count": 112,
   "metadata": {
    "id": "nsKNTm-Lf-sb"
   },
   "outputs": [],
   "source": [
    "def extract_useful_patches(\n",
    "    volumes, labels,\n",
    "    image_size=IMAGE_SIZE,\n",
    "    patch_size=PATCH_SIZE,\n",
    "    stride=PATCH_STRIDE,\n",
    "    threshold=CONTENT_THRESHOLD,\n",
    "    num_classes=N_CLASSES) :\n",
    "  volumes = volumes.reshape([-1, image_size[1], image_size[2], 1])\n",
    "  labels = labels.reshape([-1, image_size[1], image_size[2], 1])\n",
    "\n",
    "  vol_patches = extract_patches(volumes, patch_size, stride).numpy()\n",
    "  seg_patches = extract_patches(labels, patch_size, stride).numpy()\n",
    "\n",
    "  vol_patches = vol_patches.reshape([-1, *patch_size, 1])\n",
    "  seg_patches = seg_patches.reshape([-1, *patch_size, ])\n",
    "\n",
    "  foreground_mask = seg_patches != 0\n",
    "\n",
    "  useful_patches = foreground_mask.sum(axis=(1, 2)) > threshold * np.prod(patch_size)\n",
    "\n",
    "  vol_patches = vol_patches[useful_patches]\n",
    "  seg_patches = seg_patches[useful_patches]\n",
    "\n",
    "  seg_patches = tf.keras.utils.to_categorical(\n",
    "    seg_patches, num_classes=N_CLASSES, dtype='float32')\n",
    "  \n",
    "  return (vol_patches, seg_patches)"
   ]
  },
  {
   "cell_type": "code",
   "execution_count": 100,
   "metadata": {
    "id": "tTcoEi426bfg"
   },
   "outputs": [],
   "source": [
    "# extract patches from training set\n",
    "(training_patches_T1, training_patches_seg) = extract_useful_patches(training_volumes_T1, training_labels)\n",
    "(training_patches_T2, _) = extract_useful_patches(training_volumes_T2, training_labels)\n",
    "\n",
    "# extract patches from validation set\n",
    "(validation_patches_T1, validation_patches_seg) = extract_useful_patches(validation_volumes_T1, validation_labels)\n",
    "(validation_patches_T2, _) = extract_useful_patches(validation_volumes_T2, validation_labels)"
   ]
  },
  {
   "cell_type": "markdown",
   "metadata": {
    "id": "bJYxf3HiFopr"
   },
   "source": [
    "**Instantiate SegNet model and train it**\n",
    "\n",
    "*   When/how do we stop training?\n",
    "*   Should we use validation split in keras?\n",
    "*   How large should the batch size be?"
   ]
  },
  {
   "cell_type": "code",
   "execution_count": 61,
   "metadata": {
    "id": "w7M1Az8uI1BE"
   },
   "outputs": [
    {
     "name": "stdout",
     "output_type": "stream",
     "text": [
      "Epoch 1/10\n",
      "213/213 [==============================] - 29s 132ms/step - loss: 0.9289 - val_loss: 0.5967\n",
      "Epoch 2/10\n",
      "213/213 [==============================] - 29s 134ms/step - loss: 0.5534 - val_loss: 0.5374\n",
      "Epoch 3/10\n",
      "213/213 [==============================] - 29s 136ms/step - loss: 0.4964 - val_loss: 0.5598\n",
      "Epoch 4/10\n",
      "213/213 [==============================] - 28s 132ms/step - loss: 0.4671 - val_loss: 0.4743\n",
      "Epoch 5/10\n",
      "213/213 [==============================] - 29s 138ms/step - loss: 0.4415 - val_loss: 0.4626\n",
      "Epoch 6/10\n",
      "213/213 [==============================] - 28s 132ms/step - loss: 0.4184 - val_loss: 0.4627\n",
      "Epoch 7/10\n",
      "213/213 [==============================] - 31s 144ms/step - loss: 0.4079 - val_loss: 0.4631\n",
      "Epoch 8/10\n",
      "213/213 [==============================] - 31s 145ms/step - loss: 0.3903 - val_loss: 0.4461\n",
      "Epoch 9/10\n",
      "213/213 [==============================] - 30s 140ms/step - loss: 0.3715 - val_loss: 0.4424\n",
      "Epoch 10/10\n",
      "213/213 [==============================] - 29s 137ms/step - loss: 0.3636 - val_loss: 0.4540\n"
     ]
    }
   ],
   "source": [
    "#segnet = get_segnet()\n",
    "#segnet.compile(optimizer=OPTIMISER, loss=LOSS)\n",
    "#h = segnet.fit(\n",
    "#     x=training_patches_T1,\n",
    "#     y=training_patches_seg,\n",
    "#     validation_data=(validation_patches_T1, validation_patches_seg),\n",
    "#     batch_size=BATCH_SIZE,\n",
    "#     epochs=N_EPOCHS,\n",
    "#     verbose=1)"
   ]
  },
  {
   "cell_type": "markdown",
   "metadata": {
    "id": "fjIfjtiaKYr1"
   },
   "source": [
    "We could stop training when validation loss increases substantially"
   ]
  },
  {
   "cell_type": "code",
   "execution_count": 113,
   "metadata": {
    "id": "bspE_hozI9zN"
   },
   "outputs": [
    {
     "data": {
      "image/png": "[encoded data removed]",
      "text/plain": [
       "<Figure size 640x480 with 1 Axes>"
      ]
     },
     "metadata": {},
     "output_type": "display_data"
    }
   ],
   "source": [
    " plt.figure()\n",
    " plt.plot(range(N_EPOCHS), h.history['loss'], label='loss')\n",
    " plt.plot(range(N_EPOCHS), h.history['val_loss'], label='val_loss')\n",
    " plt.legend()\n",
    " plt.show()"
   ]
  },
  {
   "cell_type": "markdown",
   "metadata": {
    "id": "EkBp70aWGB_b"
   },
   "source": [
    "Using callbacks to stop training and avoid overfitting\n",
    "\n",
    "\n",
    "*   Early stopping with a certain patience\n",
    "*   Save (and load!) best model\n",
    "\n",
    "*   Concatinate the T1 and T2 works for multimodality \n",
    "\n"
   ]
  },
  {
   "cell_type": "code",
   "execution_count": 114,
   "metadata": {
    "colab": {
     "base_uri": "https://localhost:8080/"
    },
    "id": "j7H9hIPwEwJZ",
    "outputId": "d4c0237b-cae0-4666-c7fd-96a0f39de184"
   },
   "outputs": [
    {
     "name": "stdout",
     "output_type": "stream",
     "text": [
      "Epoch 1/10\n",
      "213/213 [==============================] - 76s 356ms/step - loss: 2.4731 - val_loss: 0.5447\n",
      "Epoch 2/10\n",
      "213/213 [==============================] - 76s 356ms/step - loss: 0.5076 - val_loss: 0.4710\n",
      "Epoch 3/10\n",
      "213/213 [==============================] - 78s 367ms/step - loss: 0.4525 - val_loss: 0.4486\n",
      "Epoch 4/10\n",
      "213/213 [==============================] - 81s 380ms/step - loss: 0.4224 - val_loss: 0.4270\n",
      "Epoch 5/10\n",
      "213/213 [==============================] - 84s 392ms/step - loss: 0.4082 - val_loss: 0.4017\n",
      "Epoch 6/10\n",
      "213/213 [==============================] - 81s 379ms/step - loss: 0.3901 - val_loss: 0.4018\n",
      "Epoch 7/10\n",
      "213/213 [==============================] - 87s 410ms/step - loss: 0.3715 - val_loss: 0.3717\n",
      "Epoch 8/10\n",
      "213/213 [==============================] - 90s 418ms/step - loss: 0.3490 - val_loss: 0.3688\n",
      "Epoch 9/10\n",
      "213/213 [==============================] - 83s 388ms/step - loss: 0.3420 - val_loss: 0.3600\n",
      "Epoch 10/10\n",
      "213/213 [==============================] - 85s 398ms/step - loss: 0.3289 - val_loss: 0.3706\n"
     ]
    },
    {
     "data": {
      "text/plain": [
       "<keras.callbacks.History at 0x208d7f52590>"
      ]
     },
     "execution_count": 114,
     "metadata": {},
     "output_type": "execute_result"
    }
   ],
   "source": [
    "my_callbacks = [\n",
    "    tf.keras.callbacks.EarlyStopping(patience=PATIENCE),\n",
    "    tf.keras.callbacks.ModelCheckpoint(filepath=MODEL_FNAME_PATTERN, save_best_only=True)\n",
    "]\n",
    "\n",
    "segnet = get_segnet()\n",
    "segnet.compile(optimizer=OPTIMISER, loss=LOSS)\n",
    "segnet.fit(\n",
    "    x=np.concatenate((training_patches_T1, training_patches_T2), axis=-1), \n",
    "    y=training_patches_seg,\n",
    "    validation_data=(np.concatenate((validation_patches_T1, validation_patches_T2), axis=-1), validation_patches_seg),\n",
    "    batch_size=BATCH_SIZE,\n",
    "    epochs=N_EPOCHS,\n",
    "    callbacks=my_callbacks,\n",
    "    verbose=1)"
   ]
  },
  {
   "cell_type": "markdown",
   "metadata": {
    "id": "XGcfrZCMjz4M"
   },
   "source": [
    "**Load best model**"
   ]
  },
  {
   "cell_type": "code",
   "execution_count": 115,
   "metadata": {
    "id": "5fNsYJL7KnON"
   },
   "outputs": [],
   "source": [
    "segnet = get_segnet(\n",
    "    img_size=(IMAGE_SIZE[1], IMAGE_SIZE[2]),\n",
    "    n_classes=N_CLASSES,\n",
    "    n_input_channels=N_INPUT_CHANNELS)\n",
    "\n",
    "segnet.compile(optimizer=OPTIMISER, loss=LOSS)\n",
    "segnet.load_weights('model.h5')"
   ]
  },
  {
   "cell_type": "markdown",
   "metadata": {
    "id": "CwPzN0jrSm8r"
   },
   "source": [
    "**Prepare test data**"
   ]
  },
  {
   "cell_type": "code",
   "execution_count": 116,
   "metadata": {
    "id": "vuRHLNYGkDFp"
   },
   "outputs": [],
   "source": [
    "testing_volumes_T1_processed = testing_volumes_T1.reshape([-1, IMAGE_SIZE[1], IMAGE_SIZE[2], 1])\n",
    "testing_volumes_T2_processed = testing_volumes_T2.reshape([-1, IMAGE_SIZE[1], IMAGE_SIZE[2], 1])\n",
    "testing_labels_processed = testing_labels.reshape([-1, IMAGE_SIZE[1], IMAGE_SIZE[2]])"
   ]
  },
  {
   "cell_type": "markdown",
   "metadata": {
    "id": "xbJZUQyLqF4p"
   },
   "source": [
    "**Predict labels for test data**"
   ]
  },
  {
   "cell_type": "code",
   "execution_count": 117,
   "metadata": {
    "colab": {
     "base_uri": "https://localhost:8080/",
     "height": 305
    },
    "id": "ItoY31x0K3r8",
    "outputId": "678da4bf-f4d7-4715-ecbc-e60d9bde0176"
   },
   "outputs": [
    {
     "name": "stdout",
     "output_type": "stream",
     "text": [
      "5/5 [==============================] - 15s 3s/step\n"
     ]
    },
    {
     "data": {
      "text/plain": [
       "<matplotlib.image.AxesImage at 0x208948968f0>"
      ]
     },
     "execution_count": 117,
     "metadata": {},
     "output_type": "execute_result"
    },
    {
     "data": {
      "image/png": "[encoded data removed]",
      "text/plain": [
       "<Figure size 640x480 with 1 Axes>"
      ]
     },
     "metadata": {},
     "output_type": "display_data"
    }
   ],
   "source": [
    "prediction = segnet.predict(x=np.concatenate((testing_volumes_T1_processed, testing_volumes_T2_processed), axis=-1))\n",
    "\n",
    "prediction = np.argmax(prediction, axis=3)\n",
    "\n",
    "plt.imshow(prediction[:, :, 150])"
   ]
  },
  {
   "cell_type": "code",
   "execution_count": 17,
   "metadata": {
    "colab": {
     "base_uri": "https://localhost:8080/"
    },
    "id": "LT2ZICiRH4BG",
    "outputId": "7df93cda-96e7-4ceb-84cd-4b7f7bf7a55e"
   },
   "outputs": [
    {
     "name": "stdout",
     "output_type": "stream",
     "text": [
      "Defaulting to user installation because normal site-packages is not writeable\n",
      "Collecting medpy\n",
      "  Downloading MedPy-0.4.0.tar.gz (151 kB)\n",
      "     -------------------------------------- 151.8/151.8 kB 1.5 MB/s eta 0:00:00\n",
      "  Preparing metadata (setup.py): started\n",
      "  Preparing metadata (setup.py): finished with status 'done'\n",
      "Collecting scipy>=1.1.0\n",
      "  Downloading scipy-1.9.3-cp310-cp310-win_amd64.whl (40.1 MB)\n",
      "     ---------------------------------------- 40.1/40.1 MB 4.4 MB/s eta 0:00:00\n",
      "Requirement already satisfied: numpy>=1.11.0 in c:\\users\\lenovo\\appdata\\roaming\\python\\python310\\site-packages (from medpy) (1.22.3)\n",
      "Collecting SimpleITK>=1.1.0\n",
      "  Downloading SimpleITK-2.2.0-cp310-cp310-win_amd64.whl (27.1 MB)\n",
      "     ---------------------------------------- 27.1/27.1 MB 5.1 MB/s eta 0:00:00\n",
      "Building wheels for collected packages: medpy\n",
      "  Building wheel for medpy (setup.py): started\n",
      "  Building wheel for medpy (setup.py): finished with status 'done'\n",
      "  Created wheel for medpy: filename=MedPy-0.4.0-py3-none-any.whl size=215881 sha256=f4ef32c1b8e9426aa74f331d9ffc959924f6c00ba9dc6f24067010c1022fdb30\n",
      "  Stored in directory: c:\\users\\lenovo\\appdata\\local\\pip\\cache\\wheels\\1d\\db\\31\\8b6329aa0414435981be7683b21777565265fa881e8408cf11\n",
      "Successfully built medpy\n",
      "Installing collected packages: SimpleITK, scipy, medpy\n",
      "Successfully installed SimpleITK-2.2.0 medpy-0.4.0 scipy-1.9.3\n"
     ]
    },
    {
     "name": "stderr",
     "output_type": "stream",
     "text": [
      "\n",
      "[notice] A new release of pip available: 22.3 -> 22.3.1\n",
      "[notice] To update, run: python.exe -m pip install --upgrade pip\n"
     ]
    }
   ],
   "source": [
    "!pip install medpy"
   ]
  },
  {
   "cell_type": "code",
   "execution_count": 118,
   "metadata": {
    "colab": {
     "base_uri": "https://localhost:8080/"
    },
    "id": "1FraQquLu-Lv",
    "outputId": "bb7a9c73-5d86-4fac-cac5-396ca9a81b34"
   },
   "outputs": [
    {
     "name": "stdout",
     "output_type": "stream",
     "text": [
      "Dice coefficient class 0 equal to  1.00\n",
      "Dice coefficient class 1 equal to  0.89\n",
      "Dice coefficient class 2 equal to  0.83\n",
      "Dice coefficient class 3 equal to  0.71\n",
      "Hausdorff distance class 0 equal to  3.61\n",
      "Hausdorff distance class 1 equal to  9.49\n",
      "Hausdorff distance class 2 equal to  8.49\n",
      "Hausdorff distance class 3 equal to  9.11\n",
      "Dice coefficient class 0 equal to -0.00\n",
      "Dice coefficient class 1 equal to -0.01\n",
      "Dice coefficient class 2 equal to  0.04\n",
      "Dice coefficient class 3 equal to -0.07\n"
     ]
    }
   ],
   "source": [
    "import numpy as np\n",
    "import nibabel as nib\n",
    "from medpy.metric.binary import dc, hd, ravd\n",
    "\n",
    "def compute_dice(prediction, reference) :\n",
    "  for c in np.unique(prediction) :\n",
    "    dsc_val = dc(prediction == c, reference==c)\n",
    "    print(f'Dice coefficient class {c} equal to {dsc_val : .2f}')\n",
    "\n",
    "def compute_hd(prediction, reference, voxel_spacing) :\n",
    "  for c in np.unique(prediction) :\n",
    "    hd_val = hd(prediction == c, reference==c, voxelspacing=voxel_spacing, connectivity=1)\n",
    "    print(f'Hausdorff distance class {c} equal to {hd_val : .2f}')\n",
    "\n",
    "def compute_ravd(prediction, reference) :\n",
    "  for c in np.unique(prediction) :\n",
    "    ravd_val = ravd(prediction == c, reference==c)\n",
    "    print(f'Dice coefficient class {c} equal to {ravd_val : .2f}')\n",
    "\n",
    "compute_dice(prediction, testing_labels_processed)\n",
    "compute_hd(prediction, testing_labels_processed, [1, 1, 1])\n",
    "compute_ravd(prediction, testing_labels_processed)"
   ]
  },
  {
   "cell_type": "code",
   "execution_count": null,
   "metadata": {},
   "outputs": [],
   "source": []
  }
 ],
 "metadata": {
  "accelerator": "GPU",
  "colab": {
   "collapsed_sections": [],
   "provenance": []
  },
  "kernelspec": {
   "display_name": "Python 3 (ipykernel)",
   "language": "python",
   "name": "python3"
  },
  "language_info": {
   "codemirror_mode": {
    "name": "ipython",
    "version": 3
   },
   "file_extension": ".py",
   "mimetype": "text/x-python",
   "name": "python",
   "nbconvert_exporter": "python",
   "pygments_lexer": "ipython3",
   "version": "3.10.7"
  }
 },
 "nbformat": 4,
 "nbformat_minor": 1
}
