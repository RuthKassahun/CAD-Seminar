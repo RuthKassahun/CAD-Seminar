{
 "cells": [
  {
   "cell_type": "markdown",
   "metadata": {
    "id": "-KxIplL-a3R9"
   },
   "source": [
    "**Tutorial # 3 - Contrast agnostic training**\n",
    "\n",
    "Goals:\n",
    "\n",
    "1.   Create synthetic images\n",
    "2.   Determine GMM parameters"
   ]
  },
  {
   "cell_type": "markdown",
   "metadata": {
    "id": "HMIG5gOwa-Nb"
   },
   "source": [
    "**Import libraries**"
   ]
  },
  {
   "cell_type": "code",
   "execution_count": null,
   "metadata": {
    "id": "spA2vbr3a0j7"
   },
   "outputs": [],
   "source": [
    "import numpy as np\n",
    "import nibabel as nib\n",
    "import matplotlib.pyplot as plt # plotting purposes\n",
    "\n",
    "import tensorflow as tf\n",
    "\n",
    "from tensorflow import keras\n",
    "from tensorflow.keras import layers"
   ]
  },
  {
   "cell_type": "markdown",
   "metadata": {
    "id": "IEFUu8FjYvaz"
   },
   "source": [
    "**Define parameters**"
   ]
  },
  {
   "cell_type": "code",
   "execution_count": null,
   "metadata": {
    "id": "eerKWEtxUg_x"
   },
   "outputs": [],
   "source": [
    "# dataset parameters\n",
    "FNAME_PATTERN = 'drive/MyDrive/iSeg2019-Training/subject-{}-{}.hdr'\n",
    "N_VOLUMES = 10\n",
    "IMAGE_SIZE = (144, 192, 256)\n",
    "\n",
    "# network parameters\n",
    "N_CLASSES = 4\n",
    "N_INPUT_CHANNELS = 1\n",
    "PATCH_SIZE = (32, 32)\n",
    "PATCH_STRIDE = (32, 32)\n",
    "\n",
    "# training, validation, test parameters\n",
    "TRAINING_VOLUMES = [0, 1, 2, 3, 4, 5, 6]\n",
    "VALIDATION_VOLUMES = [7, 8]\n",
    "TEST_VOLUMES = [9]\n",
    "\n",
    "# data preparation parameters\n",
    "CONTENT_THRESHOLD = 0.3\n",
    "\n",
    "# training parameters\n",
    "N_EPOCHS = 100\n",
    "BATCH_SIZE = 32\n",
    "PATIENCE = 20\n",
    "MODEL_FNAME_PATTERN = 'model.h5'\n",
    "OPTIMISER = 'Adam'\n",
    "LOSS = 'categorical_crossentropy'"
   ]
  },
  {
   "cell_type": "markdown",
   "metadata": {
    "id": "MYqbV-aZEzEx"
   },
   "source": [
    "**Mount drive**"
   ]
  },
  {
   "cell_type": "code",
   "execution_count": null,
   "metadata": {
    "colab": {
     "base_uri": "https://localhost:8080/"
    },
    "id": "tFJ_L_2i55hx",
    "outputId": "a283269d-0fab-484e-8b96-113461f908fe"
   },
   "outputs": [
    {
     "name": "stdout",
     "output_type": "stream",
     "text": [
      "Drive already mounted at /content/drive; to attempt to forcibly remount, call drive.mount(\"/content/drive\", force_remount=True).\n"
     ]
    }
   ],
   "source": [
    "from google.colab import drive\n",
    "drive.mount(\"/content/drive\")"
   ]
  },
  {
   "cell_type": "markdown",
   "metadata": {
    "id": "kakQO5X9E0oR"
   },
   "source": [
    "**Define SegNet architecture**"
   ]
  },
  {
   "cell_type": "code",
   "execution_count": null,
   "metadata": {
    "id": "flPaOqv0bZ3-"
   },
   "outputs": [],
   "source": [
    "def get_unet(img_size=PATCH_SIZE, n_classes=N_CLASSES, n_input_channels=N_INPUT_CHANNELS, scale=1):\n",
    "    inputs = keras.Input(shape=img_size + (n_input_channels, ))\n",
    "\n",
    "    # Encoding path\n",
    "    conv1 = layers.Conv2D(32*scale, (3, 3), padding=\"same\", activation='relu')(inputs)\n",
    "    max1 = layers.MaxPooling2D((2, 2))(conv1)\n",
    "\n",
    "    conv2 = layers.Conv2D(64*scale, (3, 3), padding=\"same\", activation='relu')(max1)\n",
    "    max2 = layers.MaxPooling2D((2, 2))(conv2)\n",
    "\n",
    "    conv3 = layers.Conv2D(128*scale, (3, 3), padding=\"same\", activation='relu')(max2)\n",
    "    max3 = layers.MaxPooling2D((2, 2))(conv3)\n",
    "\n",
    "    lat = layers.Conv2D(256*scale, (3, 3), padding=\"same\", activation='relu')(max3)\n",
    "\n",
    "    # Decoding path\n",
    "    up1 = layers.UpSampling2D((2, 2))(lat)\n",
    "    concat1 = layers.concatenate([conv3, up1], axis=-1)\n",
    "    conv4 = layers.Conv2D(128*scale, (3, 3), padding=\"same\", activation='relu')(concat1)\n",
    "    \n",
    "    up2 = layers.UpSampling2D((2, 2))(conv4)\n",
    "    concat2 = layers.concatenate([conv2, up2], axis=-1)\n",
    "    conv5 = layers.Conv2D(64*scale, (3, 3), padding=\"same\", activation='relu')(concat2)\n",
    "    \n",
    "    up3 = layers.UpSampling2D((2, 2))(conv5)\n",
    "    concat3 = layers.concatenate([conv1, up3], axis=-1)\n",
    "\n",
    "    conv6 = layers.Conv2D(32*scale, (3, 3), padding=\"same\", activation='relu')(concat3)\n",
    "\n",
    "    outputs = layers.Conv2D(n_classes, (1, 1), activation=\"softmax\")(conv6)\n",
    "\n",
    "    model = keras.Model(inputs, outputs)\n",
    "\n",
    "    return model"
   ]
  },
  {
   "cell_type": "markdown",
   "metadata": {
    "id": "4Z1E1IglE-0w"
   },
   "source": [
    "**Load data**"
   ]
  },
  {
   "cell_type": "code",
   "execution_count": null,
   "metadata": {
    "id": "z-iEv0DKfkhD"
   },
   "outputs": [],
   "source": [
    "def load_data(n_volumes=N_VOLUMES, image_size=IMAGE_SIZE, fname_pattern=FNAME_PATTERN) :\n",
    "  T1_volumes = np.zeros((n_volumes, *image_size, 1))\n",
    "  T2_volumes = np.zeros((n_volumes, *image_size, 1))\n",
    "  labels = np.zeros((n_volumes, *image_size, 1))\n",
    "  for i in range(n_volumes) :\n",
    "    img_data = nib.load(fname_pattern.format(i+1, 'T1'))\n",
    "    T1_volumes[i] = img_data.get_fdata()\n",
    "\n",
    "    img_data = nib.load(fname_pattern.format(i+1, 'T2'))\n",
    "    T2_volumes[i] = img_data.get_fdata()\n",
    "\n",
    "    seg_data = nib.load(fname_pattern.format(i+1, 'label'))\n",
    "    labels[i] = seg_data.get_fdata()\n",
    "\n",
    "  return (T1_volumes, T2_volumes, labels)"
   ]
  },
  {
   "cell_type": "code",
   "execution_count": null,
   "metadata": {
    "id": "SCohHTitd5gU"
   },
   "outputs": [],
   "source": [
    "(T1_volumes, _, labels) = load_data()"
   ]
  },
  {
   "cell_type": "markdown",
   "metadata": {
    "id": "7SAR9yuGNzLX"
   },
   "source": [
    "**Split into training, validation and testing**"
   ]
  },
  {
   "cell_type": "code",
   "execution_count": null,
   "metadata": {
    "id": "vi1ZvMHYNysO"
   },
   "outputs": [],
   "source": [
    "training_volumes_T1 = T1_volumes[TRAINING_VOLUMES]\n",
    "training_labels = labels[TRAINING_VOLUMES]\n",
    "\n",
    "validation_volumes_T1 = T1_volumes[VALIDATION_VOLUMES]\n",
    "validation_labels = labels[VALIDATION_VOLUMES]"
   ]
  },
  {
   "cell_type": "markdown",
   "metadata": {
    "id": "KtjoCOcyhUhH"
   },
   "source": [
    "**Determine GMM parameters**"
   ]
  },
  {
   "cell_type": "code",
   "execution_count": null,
   "metadata": {
    "colab": {
     "base_uri": "https://localhost:8080/",
     "height": 285
    },
    "id": "mgFU8-Axmmhz",
    "outputId": "8e8a5539-b0b9-421e-86ed-c7807b5d6d64"
   },
   "outputs": [
    {
     "name": "stdout",
     "output_type": "stream",
     "text": [
      "[257.48750258 175.97978412 231.44596825] [ 619.95546422 3914.02623847  438.35008463]\n"
     ]
    },
    {
     "data": {
      "image/png": "[encoded data removed]",
      "text/plain": [
       "<Figure size 432x288 with 1 Axes>"
      ]
     },
     "metadata": {
      "needs_background": "light"
     },
     "output_type": "display_data"
    }
   ],
   "source": [
    "import sklearn.mixture\n",
    "\n",
    "training_volume_T1=training_volumes_T1[0]\n",
    "\n",
    "A=sklearn.mixture.GaussianMixture(3).fit(training_volume_T1[training_labels[0]!=0].reshape([-1, 1]))\n",
    "\n",
    "print(A.means_.flatten(), A.covariances_.flatten())\n",
    "\n",
    "plt.hist(training_volume_T1[training_labels[0]!=0], 100);"
   ]
  },
  {
   "cell_type": "markdown",
   "metadata": {
    "id": "LpKWGJ-Fh1B_"
   },
   "source": [
    "**Pre-process data**"
   ]
  },
  {
   "cell_type": "code",
   "execution_count": null,
   "metadata": {
    "id": "8GPSNW8HhzNb"
   },
   "outputs": [],
   "source": [
    "def z_score_standardisation(x, avg, std):\n",
    "  return (x-avg)/std\n",
    "\n",
    "ref_avg = training_volumes_T1[training_labels!=0].mean()\n",
    "ref_std = training_volumes_T1[training_labels!=0].std()\n",
    "\n",
    "training_volumes_T1 = z_score_standardisation(training_volumes_T1, ref_avg, ref_std)\n",
    "validation_volumes_T1 = z_score_standardisation(validation_volumes_T1, ref_avg, ref_std)"
   ]
  },
  {
   "cell_type": "code",
   "execution_count": null,
   "metadata": {
    "colab": {
     "base_uri": "https://localhost:8080/"
    },
    "id": "oa_N-WNyoup8",
    "outputId": "2f822833-c06a-488b-8567-355ed11c13ca"
   },
   "outputs": [
    {
     "data": {
      "text/plain": [
       "(289.43550817663186, 125.09902733275413)"
      ]
     },
     "execution_count": 38,
     "metadata": {},
     "output_type": "execute_result"
    }
   ],
   "source": [
    "ref_avg, ref_std"
   ]
  },
  {
   "cell_type": "markdown",
   "metadata": {
    "id": "BFDtzyW6FH7x"
   },
   "source": [
    "**Extract *useful* patches**\n",
    "\n",
    "This step is fundamental, we want to provide the network with useful information"
   ]
  },
  {
   "cell_type": "code",
   "execution_count": null,
   "metadata": {
    "id": "v4qyfiRaf7n2"
   },
   "outputs": [],
   "source": [
    "def extract_patches(x, patch_size, patch_stride) :\n",
    "  return tf.image.extract_patches(\n",
    "    x,\n",
    "    sizes=[1, *patch_size, 1],\n",
    "    strides=[1, *patch_stride, 1],\n",
    "    rates=[1, 1, 1, 1],\n",
    "    padding='SAME', name=None)"
   ]
  },
  {
   "cell_type": "code",
   "execution_count": null,
   "metadata": {
    "id": "nsKNTm-Lf-sb"
   },
   "outputs": [],
   "source": [
    "def extract_useful_patches(\n",
    "    volumes, labels,\n",
    "    image_size=IMAGE_SIZE,\n",
    "    patch_size=PATCH_SIZE,\n",
    "    stride=PATCH_STRIDE,\n",
    "    threshold=CONTENT_THRESHOLD,\n",
    "    num_classes=N_CLASSES) :\n",
    "  volumes = volumes.reshape([-1, image_size[1], image_size[2], 1])\n",
    "  labels = labels.reshape([-1, image_size[1], image_size[2], 1])\n",
    "\n",
    "  vol_patches = extract_patches(volumes, patch_size, stride).numpy()\n",
    "  seg_patches = extract_patches(labels, patch_size, stride).numpy()\n",
    "\n",
    "  vol_patches = vol_patches.reshape([-1, *patch_size, 1])\n",
    "  seg_patches = seg_patches.reshape([-1, *patch_size, ])\n",
    "\n",
    "  foreground_mask = seg_patches != 0\n",
    "\n",
    "  useful_patches = foreground_mask.sum(axis=(1, 2)) > threshold * np.prod(patch_size)\n",
    "\n",
    "  vol_patches = vol_patches[useful_patches]\n",
    "  seg_patches = seg_patches[useful_patches]\n",
    "\n",
    "  seg_patches = tf.keras.utils.to_categorical(\n",
    "    seg_patches, num_classes=N_CLASSES, dtype='float32')\n",
    "  \n",
    "  return (vol_patches, seg_patches)"
   ]
  },
  {
   "cell_type": "code",
   "execution_count": null,
   "metadata": {
    "id": "tTcoEi426bfg"
   },
   "outputs": [],
   "source": [
    "# extract patches from training set\n",
    "(training_patches_seg, _) = extract_useful_patches(training_labels, training_labels)\n",
    "\n",
    "# extract patches from validation set\n",
    "(validation_patches_T1, validation_patches_seg) = extract_useful_patches(validation_volumes_T1, validation_labels)"
   ]
  },
  {
   "cell_type": "code",
   "execution_count": null,
   "metadata": {
    "id": "uP0721HWigcO"
   },
   "outputs": [],
   "source": [
    "import numpy as np\n",
    "import random\n",
    "from scipy.ndimage import gaussian_filter\n",
    "\n",
    "class DataGenerator(keras.utils.Sequence):\n",
    "    'Generates data for Keras'\n",
    "    def __init__(self, labels, shuffle=True):\n",
    "        'Initialization'\n",
    "        self.dim = PATCH_SIZE\n",
    "        self.batch_size = BATCH_SIZE\n",
    "        self.list_IDs = range(labels.shape[0])\n",
    "        self.labels = labels\n",
    "        self.n_channels = N_INPUT_CHANNELS\n",
    "        self.n_classes = N_CLASSES\n",
    "        self.shuffle = shuffle\n",
    "        self.on_epoch_end()\n",
    "\n",
    "    def __len__(self):\n",
    "        'Denotes the number of batches per epoch'\n",
    "        return int(np.floor(len(self.list_IDs) / self.batch_size))\n",
    "\n",
    "    def __getitem__(self, index):\n",
    "        'Generate one batch of data'\n",
    "        # Generate indexes of the batch\n",
    "        indexes = self.indexes[index*self.batch_size:(index+1)*self.batch_size]\n",
    "\n",
    "        # Find list of IDs\n",
    "        list_IDs_temp = [self.list_IDs[k] for k in indexes]\n",
    "\n",
    "        # Generate data\n",
    "        X, y = self.__data_generation(list_IDs_temp)\n",
    "\n",
    "        return X, y\n",
    "\n",
    "    def on_epoch_end(self):\n",
    "        'Updates indexes after each epoch'\n",
    "        self.indexes = np.arange(len(self.list_IDs))\n",
    "        if self.shuffle == True:\n",
    "            np.random.shuffle(self.indexes)\n",
    "\n",
    "    def __data_generation(self, list_IDs_temp):\n",
    "        'Generates data containing batch_size samples' # X : (n_samples, *dim, n_channels)\n",
    "        # Initialization\n",
    "        X = np.empty((self.batch_size, *self.dim, self.n_channels), dtype=float)\n",
    "        Y = np.empty((self.batch_size, *self.dim, self.n_classes), dtype=int)\n",
    "\n",
    "        # Generate data\n",
    "        for i, ID in enumerate(list_IDs_temp):\n",
    "            map = self.labels[ID]\n",
    "\n",
    "            sample = np.zeros_like(map)\n",
    "\n",
    "            ## transform map into an image\n",
    "            X[i, ] = sample\n",
    "\n",
    "            # Store class\n",
    "            Y[i, ] =  tf.keras.utils.to_categorical(map, num_classes=self.n_classes)\n",
    "\n",
    "        return X, Y"
   ]
  },
  {
   "cell_type": "code",
   "execution_count": null,
   "metadata": {
    "id": "tpRbXoltjXra"
   },
   "outputs": [],
   "source": [
    "training_generator = DataGenerator(training_patches_seg)"
   ]
  },
  {
   "cell_type": "code",
   "execution_count": null,
   "metadata": {
    "colab": {
     "base_uri": "https://localhost:8080/",
     "height": 283
    },
    "id": "QEpJH-OdkNel",
    "outputId": "13dfe441-87df-410a-d335-70aa52b67595"
   },
   "outputs": [
    {
     "data": {
      "text/plain": [
       "<matplotlib.image.AxesImage at 0x7f2dfa75e810>"
      ]
     },
     "execution_count": 44,
     "metadata": {},
     "output_type": "execute_result"
    },
    {
     "data": {
      "image/png": "[encoded data removed]",
      "text/plain": [
       "<Figure size 432x288 with 1 Axes>"
      ]
     },
     "metadata": {
      "needs_background": "light"
     },
     "output_type": "display_data"
    }
   ],
   "source": [
    "for x in training_generator :\n",
    "  break\n",
    "\n",
    "plt.imshow(x[0][21, :, :, 0], cmap=\"gray\")"
   ]
  },
  {
   "cell_type": "code",
   "execution_count": null,
   "metadata": {
    "colab": {
     "base_uri": "https://localhost:8080/",
     "height": 283
    },
    "id": "byNgvpZ4kzBw",
    "outputId": "1f936bed-5223-4244-d3ff-de78018fd1bb"
   },
   "outputs": [
    {
     "data": {
      "text/plain": [
       "<matplotlib.image.AxesImage at 0x7f2e70117d50>"
      ]
     },
     "execution_count": 45,
     "metadata": {},
     "output_type": "execute_result"
    },
    {
     "data": {
      "image/png": "[encoded data removed]",
      "text/plain": [
       "<Figure size 432x288 with 1 Axes>"
      ]
     },
     "metadata": {
      "needs_background": "light"
     },
     "output_type": "display_data"
    }
   ],
   "source": [
    "plt.imshow(np.argmax(x[1][21, :, :, :], axis=-1))"
   ]
  },
  {
   "cell_type": "markdown",
   "metadata": {
    "id": "0K_iI4dHn_yq"
   },
   "source": [
    "**Train network**"
   ]
  },
  {
   "cell_type": "code",
   "execution_count": null,
   "metadata": {
    "colab": {
     "base_uri": "https://localhost:8080/"
    },
    "id": "j7H9hIPwEwJZ",
    "outputId": "9550d03b-76e5-4348-cabd-6fca075b67b0"
   },
   "outputs": [
    {
     "name": "stdout",
     "output_type": "stream",
     "text": [
      "Epoch 1/100\n",
      "212/212 [==============================] - 16s 33ms/step - loss: 1.3009 - val_loss: 1.2574\n",
      "Epoch 2/100\n",
      "212/212 [==============================] - 6s 30ms/step - loss: 1.2238 - val_loss: 1.1987\n",
      "Epoch 3/100\n",
      "212/212 [==============================] - 6s 30ms/step - loss: 1.1697 - val_loss: 1.1354\n",
      "Epoch 4/100\n",
      "212/212 [==============================] - 6s 30ms/step - loss: 1.1069 - val_loss: 1.0630\n",
      "Epoch 5/100\n",
      "212/212 [==============================] - 7s 31ms/step - loss: 1.0354 - val_loss: 0.9843\n",
      "Epoch 6/100\n",
      "212/212 [==============================] - 7s 31ms/step - loss: 0.9622 - val_loss: 0.9086\n",
      "Epoch 7/100\n",
      "212/212 [==============================] - 7s 31ms/step - loss: 0.8903 - val_loss: 0.8408\n",
      "Epoch 8/100\n",
      "212/212 [==============================] - 7s 31ms/step - loss: 0.8240 - val_loss: 0.7889\n",
      "Epoch 9/100\n",
      "212/212 [==============================] - 6s 30ms/step - loss: 0.7722 - val_loss: 0.7491\n",
      "Epoch 10/100\n",
      "212/212 [==============================] - 6s 30ms/step - loss: 0.7321 - val_loss: 0.7312\n",
      "Epoch 11/100\n",
      "212/212 [==============================] - 7s 31ms/step - loss: 0.7016 - val_loss: 0.7058\n",
      "Epoch 12/100\n",
      "212/212 [==============================] - 6s 30ms/step - loss: 0.6812 - val_loss: 0.7032\n",
      "Epoch 13/100\n",
      "212/212 [==============================] - 6s 30ms/step - loss: 0.6686 - val_loss: 0.7032\n",
      "Epoch 14/100\n",
      "212/212 [==============================] - 6s 30ms/step - loss: 0.6615 - val_loss: 0.6985\n",
      "Epoch 15/100\n",
      "212/212 [==============================] - 6s 31ms/step - loss: 0.6515 - val_loss: 0.6864\n",
      "Epoch 16/100\n",
      "212/212 [==============================] - 7s 31ms/step - loss: 0.6460 - val_loss: 0.6918\n",
      "Epoch 17/100\n",
      "212/212 [==============================] - 7s 31ms/step - loss: 0.6414 - val_loss: 0.6860\n",
      "Epoch 18/100\n",
      "212/212 [==============================] - 7s 31ms/step - loss: 0.6382 - val_loss: 0.6802\n",
      "Epoch 19/100\n",
      "212/212 [==============================] - 6s 31ms/step - loss: 0.6357 - val_loss: 0.6765\n",
      "Epoch 20/100\n",
      "212/212 [==============================] - 7s 31ms/step - loss: 0.6314 - val_loss: 0.6649\n",
      "Epoch 21/100\n",
      "212/212 [==============================] - 6s 30ms/step - loss: 0.6264 - val_loss: 0.6574\n",
      "Epoch 22/100\n",
      "212/212 [==============================] - 6s 31ms/step - loss: 0.6247 - val_loss: 0.6548\n",
      "Epoch 23/100\n",
      "212/212 [==============================] - 6s 30ms/step - loss: 0.6206 - val_loss: 0.6501\n",
      "Epoch 24/100\n",
      "212/212 [==============================] - 6s 30ms/step - loss: 0.6195 - val_loss: 0.6505\n",
      "Epoch 25/100\n",
      "212/212 [==============================] - 6s 30ms/step - loss: 0.6144 - val_loss: 0.6466\n",
      "Epoch 26/100\n",
      "212/212 [==============================] - 6s 30ms/step - loss: 0.6117 - val_loss: 0.6593\n",
      "Epoch 27/100\n",
      "212/212 [==============================] - 6s 30ms/step - loss: 0.6124 - val_loss: 0.6630\n",
      "Epoch 28/100\n",
      "212/212 [==============================] - 6s 30ms/step - loss: 0.6080 - val_loss: 0.6383\n",
      "Epoch 29/100\n",
      "212/212 [==============================] - 6s 30ms/step - loss: 0.6078 - val_loss: 0.6553\n",
      "Epoch 30/100\n",
      "212/212 [==============================] - 6s 30ms/step - loss: 0.6014 - val_loss: 0.6300\n",
      "Epoch 31/100\n",
      "212/212 [==============================] - 6s 30ms/step - loss: 0.6057 - val_loss: 0.6309\n",
      "Epoch 32/100\n",
      "212/212 [==============================] - 6s 30ms/step - loss: 0.5978 - val_loss: 0.6331\n",
      "Epoch 33/100\n",
      "212/212 [==============================] - 6s 30ms/step - loss: 0.6001 - val_loss: 0.6224\n",
      "Epoch 34/100\n",
      "212/212 [==============================] - 6s 30ms/step - loss: 0.5967 - val_loss: 0.6159\n",
      "Epoch 35/100\n",
      "212/212 [==============================] - 6s 30ms/step - loss: 0.5927 - val_loss: 0.6188\n",
      "Epoch 36/100\n",
      "212/212 [==============================] - 6s 30ms/step - loss: 0.5923 - val_loss: 0.6248\n",
      "Epoch 37/100\n",
      "212/212 [==============================] - 6s 31ms/step - loss: 0.5925 - val_loss: 0.6112\n",
      "Epoch 38/100\n",
      "212/212 [==============================] - 6s 31ms/step - loss: 0.5902 - val_loss: 0.6189\n",
      "Epoch 39/100\n",
      "212/212 [==============================] - 6s 30ms/step - loss: 0.5849 - val_loss: 0.6174\n",
      "Epoch 40/100\n",
      "212/212 [==============================] - 6s 31ms/step - loss: 0.5865 - val_loss: 0.6094\n",
      "Epoch 41/100\n",
      "212/212 [==============================] - 6s 31ms/step - loss: 0.5803 - val_loss: 0.6073\n",
      "Epoch 42/100\n",
      "212/212 [==============================] - 7s 31ms/step - loss: 0.5781 - val_loss: 0.6070\n",
      "Epoch 43/100\n",
      "212/212 [==============================] - 7s 31ms/step - loss: 0.5830 - val_loss: 0.6025\n",
      "Epoch 44/100\n",
      "212/212 [==============================] - 6s 30ms/step - loss: 0.5803 - val_loss: 0.6072\n",
      "Epoch 45/100\n",
      "212/212 [==============================] - 7s 32ms/step - loss: 0.5763 - val_loss: 0.6117\n",
      "Epoch 46/100\n",
      "212/212 [==============================] - 6s 30ms/step - loss: 0.5733 - val_loss: 0.6008\n",
      "Epoch 47/100\n",
      "212/212 [==============================] - 6s 30ms/step - loss: 0.5714 - val_loss: 0.5930\n",
      "Epoch 48/100\n",
      "212/212 [==============================] - 6s 30ms/step - loss: 0.5722 - val_loss: 0.5877\n",
      "Epoch 49/100\n",
      "212/212 [==============================] - 6s 30ms/step - loss: 0.5702 - val_loss: 0.5913\n",
      "Epoch 50/100\n",
      "212/212 [==============================] - 6s 30ms/step - loss: 0.5615 - val_loss: 0.5859\n",
      "Epoch 51/100\n",
      "212/212 [==============================] - 6s 30ms/step - loss: 0.5657 - val_loss: 0.5872\n",
      "Epoch 52/100\n",
      "212/212 [==============================] - 6s 30ms/step - loss: 0.5638 - val_loss: 0.5883\n",
      "Epoch 53/100\n",
      "212/212 [==============================] - 6s 30ms/step - loss: 0.5617 - val_loss: 0.5875\n",
      "Epoch 54/100\n",
      "212/212 [==============================] - 6s 31ms/step - loss: 0.5658 - val_loss: 0.5749\n",
      "Epoch 55/100\n",
      "212/212 [==============================] - 6s 31ms/step - loss: 0.5574 - val_loss: 0.5828\n",
      "Epoch 56/100\n",
      "212/212 [==============================] - 6s 30ms/step - loss: 0.5612 - val_loss: 0.5765\n",
      "Epoch 57/100\n",
      "212/212 [==============================] - 7s 31ms/step - loss: 0.5599 - val_loss: 0.5937\n",
      "Epoch 58/100\n",
      "212/212 [==============================] - 7s 31ms/step - loss: 0.5538 - val_loss: 0.5646\n",
      "Epoch 59/100\n",
      "212/212 [==============================] - 6s 30ms/step - loss: 0.5572 - val_loss: 0.5876\n",
      "Epoch 60/100\n",
      "212/212 [==============================] - 6s 30ms/step - loss: 0.5534 - val_loss: 0.5737\n",
      "Epoch 61/100\n",
      "212/212 [==============================] - 7s 31ms/step - loss: 0.5635 - val_loss: 0.5745\n",
      "Epoch 62/100\n",
      "212/212 [==============================] - 7s 32ms/step - loss: 0.5589 - val_loss: 0.5808\n",
      "Epoch 63/100\n",
      "212/212 [==============================] - 7s 31ms/step - loss: 0.5596 - val_loss: 0.5715\n",
      "Epoch 64/100\n",
      "212/212 [==============================] - 7s 31ms/step - loss: 0.5497 - val_loss: 0.5812\n",
      "Epoch 65/100\n",
      "212/212 [==============================] - 7s 31ms/step - loss: 0.5517 - val_loss: 0.5645\n",
      "Epoch 66/100\n",
      "212/212 [==============================] - 7s 32ms/step - loss: 0.5538 - val_loss: 0.5728\n",
      "Epoch 67/100\n",
      "212/212 [==============================] - 7s 31ms/step - loss: 0.5503 - val_loss: 0.5692\n",
      "Epoch 68/100\n",
      "212/212 [==============================] - 7s 31ms/step - loss: 0.5397 - val_loss: 0.5611\n",
      "Epoch 69/100\n",
      "212/212 [==============================] - 7s 31ms/step - loss: 0.5494 - val_loss: 0.5695\n",
      "Epoch 70/100\n",
      "212/212 [==============================] - 7s 32ms/step - loss: 0.5397 - val_loss: 0.5601\n",
      "Epoch 71/100\n",
      "212/212 [==============================] - 7s 31ms/step - loss: 0.5470 - val_loss: 0.5682\n",
      "Epoch 72/100\n",
      "212/212 [==============================] - 7s 31ms/step - loss: 0.5390 - val_loss: 0.5925\n",
      "Epoch 73/100\n",
      "212/212 [==============================] - 7s 31ms/step - loss: 0.5419 - val_loss: 0.5649\n",
      "Epoch 74/100\n",
      "212/212 [==============================] - 7s 31ms/step - loss: 0.5464 - val_loss: 0.5666\n",
      "Epoch 75/100\n",
      "212/212 [==============================] - 7s 31ms/step - loss: 0.5492 - val_loss: 0.5669\n",
      "Epoch 76/100\n",
      "212/212 [==============================] - 7s 31ms/step - loss: 0.5353 - val_loss: 0.5657\n",
      "Epoch 77/100\n",
      "212/212 [==============================] - 7s 31ms/step - loss: 0.5388 - val_loss: 0.5748\n",
      "Epoch 78/100\n",
      "212/212 [==============================] - 7s 31ms/step - loss: 0.5426 - val_loss: 0.5701\n",
      "Epoch 79/100\n",
      "212/212 [==============================] - 7s 31ms/step - loss: 0.5343 - val_loss: 0.5717\n",
      "Epoch 80/100\n",
      "212/212 [==============================] - 7s 31ms/step - loss: 0.5323 - val_loss: 0.5628\n",
      "Epoch 81/100\n",
      "212/212 [==============================] - 7s 31ms/step - loss: 0.5363 - val_loss: 0.5710\n",
      "Epoch 82/100\n",
      "212/212 [==============================] - 7s 32ms/step - loss: 0.5326 - val_loss: 0.5651\n",
      "Epoch 83/100\n",
      "212/212 [==============================] - 7s 32ms/step - loss: 0.5324 - val_loss: 0.5633\n",
      "Epoch 84/100\n",
      "212/212 [==============================] - 6s 31ms/step - loss: 0.5418 - val_loss: 0.5719\n",
      "Epoch 85/100\n",
      "212/212 [==============================] - 7s 31ms/step - loss: 0.5369 - val_loss: 0.5627\n",
      "Epoch 86/100\n",
      "212/212 [==============================] - 6s 31ms/step - loss: 0.5352 - val_loss: 0.5620\n",
      "Epoch 87/100\n",
      "212/212 [==============================] - 7s 31ms/step - loss: 0.5356 - val_loss: 0.5715\n",
      "Epoch 88/100\n",
      "212/212 [==============================] - 6s 30ms/step - loss: 0.5328 - val_loss: 0.5696\n",
      "Epoch 89/100\n",
      "212/212 [==============================] - 6s 30ms/step - loss: 0.5240 - val_loss: 0.5692\n",
      "Epoch 90/100\n",
      "212/212 [==============================] - 6s 30ms/step - loss: 0.5337 - val_loss: 0.5710\n"
     ]
    },
    {
     "data": {
      "text/plain": [
       "<keras.callbacks.History at 0x7f2dfaa2e610>"
      ]
     },
     "execution_count": 46,
     "metadata": {},
     "output_type": "execute_result"
    }
   ],
   "source": [
    "my_callbacks = [\n",
    "    tf.keras.callbacks.EarlyStopping(patience=PATIENCE),\n",
    "    tf.keras.callbacks.ModelCheckpoint(filepath=MODEL_FNAME_PATTERN)\n",
    "]\n",
    "\n",
    "# Generators\n",
    "training_generator = DataGenerator(training_patches_seg)\n",
    "\n",
    "segnet = get_unet()\n",
    "segnet.compile(optimizer=keras.optimizers.SGD(learning_rate=1e-3), loss=LOSS)\n",
    "segnet.fit(\n",
    "    x=training_generator,\n",
    "    validation_data=(validation_patches_T1, validation_patches_seg),\n",
    "    epochs=N_EPOCHS,\n",
    "    callbacks=my_callbacks,\n",
    "    verbose=1)"
   ]
  },
  {
   "cell_type": "markdown",
   "metadata": {
    "id": "XGcfrZCMjz4M"
   },
   "source": [
    "**Load best model**"
   ]
  },
  {
   "cell_type": "code",
   "execution_count": null,
   "metadata": {
    "id": "5fNsYJL7KnON"
   },
   "outputs": [],
   "source": [
    "segnet = get_unet(\n",
    "    img_size=(IMAGE_SIZE[1], IMAGE_SIZE[2]),\n",
    "    n_classes=N_CLASSES,\n",
    "    n_input_channels=N_INPUT_CHANNELS)\n",
    "segnet.compile(optimizer=OPTIMISER, loss=LOSS)\n",
    "segnet.load_weights('model.h5')"
   ]
  },
  {
   "cell_type": "markdown",
   "metadata": {
    "id": "CwPzN0jrSm8r"
   },
   "source": [
    "**Prepare test data**"
   ]
  },
  {
   "cell_type": "code",
   "execution_count": null,
   "metadata": {
    "id": "rlPjrPtQsdOR"
   },
   "outputs": [],
   "source": [
    "testing_volumes_T1 = T1_volumes[TEST_VOLUMES]\n",
    "testing_labels = labels[TEST_VOLUMES]\n",
    "testing_volumes_T1 = z_score_standardisation(testing_volumes_T1, ref_avg, ref_std)"
   ]
  },
  {
   "cell_type": "code",
   "execution_count": null,
   "metadata": {
    "id": "vuRHLNYGkDFp"
   },
   "outputs": [],
   "source": [
    "testing_volumes_T1_processed = testing_volumes_T1.reshape([-1, IMAGE_SIZE[1], IMAGE_SIZE[2], 1])\n",
    "testing_labels_processed = testing_labels.reshape([-1, IMAGE_SIZE[1], IMAGE_SIZE[2], 1])\n",
    "\n",
    "testing_labels_processed = tf.keras.utils.to_categorical(\n",
    "    testing_labels_processed, num_classes=4, dtype='float32')"
   ]
  },
  {
   "cell_type": "markdown",
   "metadata": {
    "id": "xF4ZYcYDqJnN"
   },
   "source": [
    "**Predict labels for test data**"
   ]
  },
  {
   "cell_type": "code",
   "execution_count": null,
   "metadata": {
    "colab": {
     "base_uri": "https://localhost:8080/",
     "height": 286
    },
    "id": "ItoY31x0K3r8",
    "outputId": "d0ef6a20-162f-46d0-9468-8f6dddf86a51"
   },
   "outputs": [
    {
     "data": {
      "text/plain": [
       "<matplotlib.image.AxesImage at 0x7f2df867ae90>"
      ]
     },
     "execution_count": 50,
     "metadata": {},
     "output_type": "execute_result"
    },
    {
     "data": {
      "image/png": "[encoded data removed]",
      "text/plain": [
       "<Figure size 432x288 with 1 Axes>"
      ]
     },
     "metadata": {
      "needs_background": "light"
     },
     "output_type": "display_data"
    }
   ],
   "source": [
    "prediction = segnet.predict(x=testing_volumes_T1_processed)\n",
    "\n",
    "prediction = np.argmax(prediction, axis=3)\n",
    "\n",
    "plt.imshow(prediction[:, :, 150])"
   ]
  },
  {
   "cell_type": "markdown",
   "metadata": {
    "id": "3HTGg0zWqL7K"
   },
   "source": [
    "**Compute DSC for test data**"
   ]
  },
  {
   "cell_type": "code",
   "execution_count": null,
   "metadata": {
    "colab": {
     "base_uri": "https://localhost:8080/"
    },
    "id": "1FraQquLu-Lv",
    "outputId": "2c6ad730-d599-4568-fa9d-fc87b7f017f8"
   },
   "outputs": [
    {
     "name": "stdout",
     "output_type": "stream",
     "text": [
      "Dice coefficient class 0 equal to  1.00\n",
      "Dice coefficient class 1 equal to  0.61\n",
      "Dice coefficient class 2 equal to  0.67\n",
      "Dice coefficient class 3 equal to  0.59\n"
     ]
    }
   ],
   "source": [
    "def compute_dice(prediction, labels) :\n",
    "  prediction = prediction.squeeze()\n",
    "  labels = labels.squeeze()\n",
    "  for c in np.unique(prediction) :\n",
    "    intersection = np.logical_and(prediction == c, labels==c).sum()\n",
    "    union = (prediction == c).sum() + (labels==c).sum()\n",
    "    print(f'Dice coefficient class {c} equal to {2 * intersection / union : .2f}')\n",
    "\n",
    "compute_dice(prediction, testing_labels)"
   ]
  }
 ],
 "metadata": {
  "accelerator": "GPU",
  "colab": {
   "collapsed_sections": [],
   "provenance": []
  },
  "kernelspec": {
   "display_name": "Python 3",
   "name": "python3"
  }
 },
 "nbformat": 4,
 "nbformat_minor": 0
}
